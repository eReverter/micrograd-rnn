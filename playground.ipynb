{
 "cells": [
  {
   "cell_type": "code",
   "execution_count": 1,
   "metadata": {},
   "outputs": [],
   "source": [
    "%load_ext autoreload\n",
    "%autoreload 2"
   ]
  },
  {
   "cell_type": "code",
   "execution_count": 24,
   "metadata": {},
   "outputs": [],
   "source": [
    "from engine import *\n",
    "from nn import *\n",
    "from extension import *\n",
    "\n",
    "import matplotlib.pyplot as plt\n",
    "import seaborn as sns"
   ]
  },
  {
   "cell_type": "code",
   "execution_count": 42,
   "metadata": {},
   "outputs": [],
   "source": [
    "def bptt_loss(yb_seq, predictions_seq):\n",
    "    seq_len = len(yb_seq)\n",
    "    losses = []\n",
    "\n",
    "    # Compute the loss for each step in the sequence\n",
    "    for t in range(seq_len):\n",
    "        yb_t = yb_seq[t]\n",
    "        predictions_t = predictions_seq[t]  # Extract the Value\n",
    "        loss_t = (yb_t - predictions_t)**2\n",
    "        losses.append(loss_t)\n",
    "\n",
    "    # Average the losses over the sequence length\n",
    "    total_loss = sum(losses) * (1.0 / seq_len)\n",
    "    return total_loss\n",
    "\n",
    "def bptt_mean_relative_error(yb_seq, predictions_seq):\n",
    "    seq_len = len(yb_seq)\n",
    "    errors = []\n",
    "\n",
    "    # Compute the relative error for each step in the sequence\n",
    "    for t in range(seq_len):\n",
    "        yb_t = yb_seq[t]\n",
    "        predictions_t = predictions_seq[t]  # Extract the Value from the tuple\n",
    "        error_t = abs(yb_t.data - predictions_t.data) / abs(yb_t.data)\n",
    "        errors.append(error_t)\n",
    "\n",
    "    # Compute the mean relative error over the sequence length\n",
    "    mean_relative_error = sum(errors) / seq_len\n",
    "    return mean_relative_error\n",
    "\n",
    "def plot_loss_and_accuracy(steps, losses, accuracies, ignore_first_n=0):\n",
    "    sns.set(style=\"ticks\", context=\"paper\")\n",
    "    \n",
    "    # Slice the lists to ignore the first n steps\n",
    "    steps = steps[ignore_first_n:]\n",
    "    losses = losses[ignore_first_n:]\n",
    "    accuracies = accuracies[ignore_first_n:]\n",
    "\n",
    "    fig, ax1 = plt.subplots()\n",
    "\n",
    "    # Plot the loss on the left y-axis\n",
    "    sns.lineplot(x=steps, y=losses, ax=ax1, label=\"Loss\", color=\"blue\", linewidth=1)\n",
    "    ax1.set_xlabel(\"Steps\")\n",
    "    ax1.set_ylabel(\"Loss\", color=\"blue\")\n",
    "    ax1.tick_params(axis=\"y\", labelcolor=\"blue\")\n",
    "\n",
    "    # Create a second y-axis for the accuracy\n",
    "    ax2 = ax1.twinx()\n",
    "\n",
    "    # Plot the accuracy on the right y-axis\n",
    "    sns.lineplot(x=steps, y=accuracies, ax=ax2, label=\"Accuracy\", color=\"red\", linewidth=1)\n",
    "    ax2.set_ylabel(\"Accuracy\", color=\"red\")\n",
    "    ax2.tick_params(axis=\"y\", labelcolor=\"red\")\n",
    "\n",
    "    # Remove the top and right spines\n",
    "    sns.despine(ax=ax1, right=True, top=True)\n",
    "    sns.despine(ax=ax2, left=True, top=True)\n",
    "\n",
    "    # Show the plot\n",
    "    plt.title(\"Loss and Accuracy Evolution\")\n",
    "    plt.show()"
   ]
  },
  {
   "cell_type": "code",
   "execution_count": 156,
   "metadata": {},
   "outputs": [
    {
     "name": "stdout",
     "output_type": "stream",
     "text": [
      "Step 499 - Loss: 94.28006272824175, Accuracy: 0.9355274983084028\n"
     ]
    },
    {
     "data": {
      "image/png": "[encoded data removed]",
      "text/plain": [
       "<Figure size 432x288 with 2 Axes>"
      ]
     },
     "metadata": {},
     "output_type": "display_data"
    }
   ],
   "source": [
    "# Create a single-layer RNN with 1 input and 1 output\n",
    "rnn = RNN(1, [1])\n",
    "# rnn = RNN(1, [1, 1])\n",
    "\n",
    "# Data sequence: [0, 1, 2, 3, 4, ...]\n",
    "input_sequence = [[Value(i)] for i in range(0, 500, 5)]\n",
    "target_sequence = [[Value(i)] for i in range(5, 505, 5)]\n",
    "\n",
    "# Initialize hidden state\n",
    "h_prev_1 = [Value(0)]\n",
    "# h_prev_2 = [Value(0)]\n",
    "\n",
    "# optimization\n",
    "iters = 500\n",
    "clipping_gradient_at = 1.0\n",
    "learning_rate_init = 0.1\n",
    "learning_rate_decay = 0.09\n",
    "learning_rate_decay_steps = iters\n",
    "\n",
    "steps, losses, accuracies = [], [], []\n",
    "\n",
    "# Initialize hidden state for testing\n",
    "h_prev_test_1 = [Value(97)]\n",
    "# h_prev_test_2 = [Value(100)]\n",
    "\n",
    "# Prepare a test input sequence\n",
    "test_input_sequence = [[Value(i)] for i in range(505, 550, 5)]\n",
    "test_output_sequence = [[Value(i)] for i in range(510, 555, 5)]\n",
    "\n",
    "for k in range(iters):\n",
    "\n",
    "    # forward\n",
    "    output, h_new = rnn(input_sequence, [h_prev_1])\n",
    "    # output, h_new = rnn(input_sequence, [h_prev_1, h_prev_2])\n",
    "\n",
    "    # compute loss\n",
    "    total_loss = bptt_loss([item for sublist in target_sequence for item in sublist], [item for sublist in output for item in sublist])\n",
    "    \n",
    "    # compute accuracy\n",
    "    test_output, _ = rnn(test_input_sequence, [h_prev_test_1])\n",
    "    total_accuracy = 1 - bptt_mean_relative_error([item for sublist in test_output_sequence for item in sublist], [item for sublist in test_output for item in sublist])\n",
    "\n",
    "    # backward \n",
    "    rnn.zero_grad()\n",
    "    total_loss.backward()\n",
    "\n",
    "    # gradient clipping\n",
    "    clip_value = clipping_gradient_at\n",
    "    for p in rnn.parameters():\n",
    "        grad_norm = p.grad ** 2\n",
    "        if grad_norm > clip_value ** 2:\n",
    "            p.grad *= (clip_value / math.sqrt(grad_norm))\n",
    "    \n",
    "    # learning rate\n",
    "    learning_rate = learning_rate_init - learning_rate_decay*k/learning_rate_decay_steps\n",
    "    for p in rnn.parameters():\n",
    "        p.data -= learning_rate * p.grad\n",
    "    \n",
    "    # store data every 10 steps\n",
    "    if k % 10 == 0:\n",
    "        steps.append(k)\n",
    "        losses.append(total_loss.data)\n",
    "        accuracies.append(total_accuracy)\n",
    "\n",
    "steps.append(k)\n",
    "losses.append(total_loss.data)\n",
    "accuracies.append(total_accuracy)\n",
    "\n",
    "print(f\"Step {k} - Loss: {total_loss.data}, Accuracy: {total_accuracy}\")\n",
    "plot_loss_and_accuracy(steps, losses, accuracies,ignore_first_n=5)"
   ]
  },
  {
   "cell_type": "code",
   "execution_count": 157,
   "metadata": {},
   "outputs": [
    {
     "name": "stdout",
     "output_type": "stream",
     "text": [
      "Test input sequence: [500, 505, 510, 515, 520, 525, 530, 535, 540, 545]\n",
      "Test output: [503.2509336924411, 509.51006217819355, 514.9994814234054, 520.1914557613625, 525.2684860812514, 530.3010976635275, 535.3165441572302, 540.3253574082615, 545.3316073221948, 550.3368666652407]\n"
     ]
    }
   ],
   "source": [
    "# Initialize hidden state for testing\n",
    "h_prev_test_1 = [Value(495)]\n",
    "# h_prev_test_2 = [Value(100)]\n",
    "\n",
    "# Prepare a test input sequence\n",
    "test_input_sequence = [[Value(i)] for i in range(500, 550, 5)]\n",
    "\n",
    "\n",
    "# Pass the test input sequence and initial hidden state to the RNN\n",
    "test_output, _ = rnn(test_input_sequence, [h_prev_test_1])\n",
    "\n",
    "# Print the input test sequence and the corresponding predictions\n",
    "print(\"Test input sequence:\", [value[0].data for value in test_input_sequence])\n",
    "print(\"Test output:\", [value[0].data for value in test_output])"
   ]
  }
 ],
 "metadata": {
  "kernelspec": {
   "display_name": "other",
   "language": "python",
   "name": "python3"
  },
  "language_info": {
   "codemirror_mode": {
    "name": "ipython",
    "version": 3
   },
   "file_extension": ".py",
   "mimetype": "text/x-python",
   "name": "python",
   "nbconvert_exporter": "python",
   "pygments_lexer": "ipython3",
   "version": "3.9.7"
  },
  "orig_nbformat": 4
 },
 "nbformat": 4,
 "nbformat_minor": 2
}
